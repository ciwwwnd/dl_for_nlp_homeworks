{
  "cells": [
    {
      "cell_type": "markdown",
      "metadata": {
        "id": "view-in-github",
        "colab_type": "text"
      },
      "source": [
        "<a href=\"https://colab.research.google.com/github/ciwwwnd/dl_for_nlp_homeworks/blob/main/HW0.ipynb\" target=\"_parent\"><img src=\"https://colab.research.google.com/assets/colab-badge.svg\" alt=\"Open In Colab\"/></a>"
      ]
    },
    {
      "cell_type": "markdown",
      "metadata": {
        "id": "P8tDK5A9OCM7"
      },
      "source": [
        "## Домашняя работа №1 Part1\n",
        "Вам предстоит:\n",
        "\n",
        "Написать персептрон с двумя слоями. Реализовать форвард и бэквард пропогейшен\n",
        "\n"
      ]
    },
    {
      "cell_type": "code",
      "execution_count": 1,
      "metadata": {
        "id": "c5IbKpsMN_F1"
      },
      "outputs": [],
      "source": [
        "import numpy as np\n",
        "from sklearn.metrics import classification_report\n",
        "import torch\n",
        "from torch.utils.data import DataLoader\n",
        "from torchvision.datasets import MNIST\n",
        "from torchvision import transforms\n",
        "import matplotlib.pyplot as plt\n",
        "from tqdm import tqdm\n",
        "from sklearn.metrics import accuracy_score\n",
        "import time"
      ]
    },
    {
      "cell_type": "markdown",
      "metadata": {
        "id": "zQRYevLNN_GA"
      },
      "source": [
        "# Датасет\n",
        "Загрузим Мнист. Почему именно он? Мы будем решать задачу бинарной классификации на паре цифр: 3 и 7. Плюсы в том, что примеров для этих чисел достаточно, чтобы обучить НС, у каждого примера не так много фичей (28Х28 - размерность картинок) и, в целом, эти классы хорошо отделяются. Я б с радостью показал вам пример с текстами, но если писать НС с нуля и пытаться обучаться на текстах, не факт, что у нас хоть что то обучится :(  \n",
        "  "
      ]
    },
    {
      "cell_type": "markdown",
      "metadata": {
        "id": "EtMN4ZlSN_GC"
      },
      "source": [
        "Торч - объект, который позволяет нормализовать картинки, можно думать о нем как о предобработке (регулярках) для текстов. В целом не стоит здесь долго думать"
      ]
    },
    {
      "cell_type": "code",
      "execution_count": 2,
      "metadata": {
        "id": "BMugicmkN_GE"
      },
      "outputs": [],
      "source": [
        "transform = transforms.Compose([\n",
        "    transforms.ToTensor(),\n",
        "    transforms.Normalize((0.1307,), (0.3081,))\n",
        "])"
      ]
    },
    {
      "cell_type": "markdown",
      "metadata": {
        "id": "actIVoMKN_GJ"
      },
      "source": [
        "Загружаем датасет. Возращается особенный торчовый класс, чуть ниже мы зададим его сами и научимся им полльзоваться, пока оставляем эз из.\n"
      ]
    },
    {
      "cell_type": "code",
      "execution_count": 3,
      "metadata": {
        "id": "fQpJqIWrN_GK"
      },
      "outputs": [],
      "source": [
        "train_dataset = MNIST('.', train=True, download=True, transform=transform)\n",
        "test_dataset = MNIST('.', train=False, transform=transform)"
      ]
    },
    {
      "cell_type": "markdown",
      "metadata": {
        "id": "aUSUIJbUN_GQ"
      },
      "source": [
        "Выбираем два класса. Если вы достаточно хорошо знакомы с пандас, то можно понять, что никакой магии здесь нет."
      ]
    },
    {
      "cell_type": "code",
      "execution_count": 4,
      "metadata": {
        "id": "vx73oHg9N_GS"
      },
      "outputs": [],
      "source": [
        "#фильтруем фичи (дата) по значению классификационных лэйблов (таргет), берем или цифру 3 или цифру 7\n",
        "train_dataset.data = train_dataset.data[(train_dataset.targets == 3) | (train_dataset.targets == 7)]\n",
        "train_dataset.targets = train_dataset.targets[(train_dataset.targets == 3) | (train_dataset.targets == 7)]\n",
        "#тоже самое для тестового набора\n",
        "test_dataset.data = test_dataset.data[(test_dataset.targets == 3) | (test_dataset.targets == 7)]\n",
        "test_dataset.targets = test_dataset.targets[(test_dataset.targets == 3) | (test_dataset.targets == 7)]\n",
        "#необходимы препроцессинг лейблов, видимо не все значения имею тип integer, а нам нужен именно этот тип функция лонг позволяет нам \n",
        "#        это сделать (self.long() is equivalent to self.to(torch.int64). See to())\n",
        "train_dataset.targets = (train_dataset.targets == 7).long()\n",
        "test_dataset.targets = (test_dataset.targets == 7).long()"
      ]
    },
    {
      "cell_type": "markdown",
      "metadata": {
        "id": "RHelnPG0N_GX"
      },
      "source": [
        "Мы неоднократно говорили, что НС обычно тренируются бачами, в торче есть удобный класс, который позволяет обернуть наши датасеты в итерируемый объект. Если не знаете что такое итерируемый объект, погуглите :) можно думать об этом как о списке с составными элементами (элемент - батч - набор примеров) "
      ]
    },
    {
      "cell_type": "code",
      "execution_count": 5,
      "metadata": {
        "id": "ENLomAueN_GZ"
      },
      "outputs": [],
      "source": [
        "train_loader = DataLoader(train_dataset, batch_size=128, shuffle=True)\n",
        "test_loader = DataLoader(test_dataset, batch_size=128, shuffle=False)"
      ]
    },
    {
      "cell_type": "code",
      "execution_count": 6,
      "metadata": {
        "colab": {
          "base_uri": "https://localhost:8080/"
        },
        "id": "rdvq5scBXtWY",
        "outputId": "b57bfc5a-9c25-455c-fb54-032b05a75b3e"
      },
      "outputs": [
        {
          "output_type": "execute_result",
          "data": {
            "text/plain": [
              "tensor([[[[-0.4242, -0.4242, -0.4242,  ..., -0.4242, -0.4242, -0.4242],\n",
              "          [-0.4242, -0.4242, -0.4242,  ..., -0.4242, -0.4242, -0.4242],\n",
              "          [-0.4242, -0.4242, -0.4242,  ..., -0.4242, -0.4242, -0.4242],\n",
              "          ...,\n",
              "          [-0.4242, -0.4242, -0.4242,  ..., -0.4242, -0.4242, -0.4242],\n",
              "          [-0.4242, -0.4242, -0.4242,  ..., -0.4242, -0.4242, -0.4242],\n",
              "          [-0.4242, -0.4242, -0.4242,  ..., -0.4242, -0.4242, -0.4242]]],\n",
              "\n",
              "\n",
              "        [[[-0.4242, -0.4242, -0.4242,  ..., -0.4242, -0.4242, -0.4242],\n",
              "          [-0.4242, -0.4242, -0.4242,  ..., -0.4242, -0.4242, -0.4242],\n",
              "          [-0.4242, -0.4242, -0.4242,  ..., -0.4242, -0.4242, -0.4242],\n",
              "          ...,\n",
              "          [-0.4242, -0.4242, -0.4242,  ..., -0.4242, -0.4242, -0.4242],\n",
              "          [-0.4242, -0.4242, -0.4242,  ..., -0.4242, -0.4242, -0.4242],\n",
              "          [-0.4242, -0.4242, -0.4242,  ..., -0.4242, -0.4242, -0.4242]]],\n",
              "\n",
              "\n",
              "        [[[-0.4242, -0.4242, -0.4242,  ..., -0.4242, -0.4242, -0.4242],\n",
              "          [-0.4242, -0.4242, -0.4242,  ..., -0.4242, -0.4242, -0.4242],\n",
              "          [-0.4242, -0.4242, -0.4242,  ..., -0.4242, -0.4242, -0.4242],\n",
              "          ...,\n",
              "          [-0.4242, -0.4242, -0.4242,  ..., -0.4242, -0.4242, -0.4242],\n",
              "          [-0.4242, -0.4242, -0.4242,  ..., -0.4242, -0.4242, -0.4242],\n",
              "          [-0.4242, -0.4242, -0.4242,  ..., -0.4242, -0.4242, -0.4242]]],\n",
              "\n",
              "\n",
              "        ...,\n",
              "\n",
              "\n",
              "        [[[-0.4242, -0.4242, -0.4242,  ..., -0.4242, -0.4242, -0.4242],\n",
              "          [-0.4242, -0.4242, -0.4242,  ..., -0.4242, -0.4242, -0.4242],\n",
              "          [-0.4242, -0.4242, -0.4242,  ..., -0.4242, -0.4242, -0.4242],\n",
              "          ...,\n",
              "          [-0.4242, -0.4242, -0.4242,  ..., -0.4242, -0.4242, -0.4242],\n",
              "          [-0.4242, -0.4242, -0.4242,  ..., -0.4242, -0.4242, -0.4242],\n",
              "          [-0.4242, -0.4242, -0.4242,  ..., -0.4242, -0.4242, -0.4242]]],\n",
              "\n",
              "\n",
              "        [[[-0.4242, -0.4242, -0.4242,  ..., -0.4242, -0.4242, -0.4242],\n",
              "          [-0.4242, -0.4242, -0.4242,  ..., -0.4242, -0.4242, -0.4242],\n",
              "          [-0.4242, -0.4242, -0.4242,  ..., -0.4242, -0.4242, -0.4242],\n",
              "          ...,\n",
              "          [-0.4242, -0.4242, -0.4242,  ..., -0.4242, -0.4242, -0.4242],\n",
              "          [-0.4242, -0.4242, -0.4242,  ..., -0.4242, -0.4242, -0.4242],\n",
              "          [-0.4242, -0.4242, -0.4242,  ..., -0.4242, -0.4242, -0.4242]]],\n",
              "\n",
              "\n",
              "        [[[-0.4242, -0.4242, -0.4242,  ..., -0.4242, -0.4242, -0.4242],\n",
              "          [-0.4242, -0.4242, -0.4242,  ..., -0.4242, -0.4242, -0.4242],\n",
              "          [-0.4242, -0.4242, -0.4242,  ..., -0.4242, -0.4242, -0.4242],\n",
              "          ...,\n",
              "          [-0.4242, -0.4242, -0.4242,  ..., -0.4242, -0.4242, -0.4242],\n",
              "          [-0.4242, -0.4242, -0.4242,  ..., -0.4242, -0.4242, -0.4242],\n",
              "          [-0.4242, -0.4242, -0.4242,  ..., -0.4242, -0.4242, -0.4242]]]])"
            ]
          },
          "metadata": {},
          "execution_count": 6
        }
      ],
      "source": [
        "X, y = next(iter(train_loader)) #next(iter(x) - Возвращает следующий элемент итератора.\n",
        "X"
      ]
    },
    {
      "cell_type": "code",
      "execution_count": 7,
      "metadata": {
        "colab": {
          "base_uri": "https://localhost:8080/"
        },
        "id": "SAaI0uHWYUrb",
        "outputId": "2ee88a8c-c382-40ee-b7a8-0e6d5019f5b5"
      },
      "outputs": [
        {
          "output_type": "execute_result",
          "data": {
            "text/plain": [
              "tensor([1, 0, 1, 1, 1, 1, 1, 0, 0, 0, 0, 0, 1, 1, 0, 0, 0, 0, 1, 1, 1, 1, 0, 0,\n",
              "        0, 1, 0, 0, 0, 1, 0, 1, 0, 1, 0, 0, 0, 0, 1, 0, 0, 1, 0, 1, 1, 0, 0, 0,\n",
              "        1, 0, 1, 1, 1, 1, 1, 1, 1, 1, 1, 0, 0, 1, 0, 0, 0, 0, 0, 1, 1, 0, 1, 1,\n",
              "        1, 0, 1, 0, 0, 0, 0, 1, 0, 0, 0, 0, 0, 1, 0, 0, 1, 0, 0, 1, 0, 0, 0, 1,\n",
              "        1, 1, 0, 1, 0, 1, 1, 0, 1, 0, 1, 0, 1, 1, 0, 1, 1, 0, 0, 0, 0, 1, 1, 0,\n",
              "        0, 1, 1, 1, 1, 0, 1, 1])"
            ]
          },
          "metadata": {},
          "execution_count": 7
        }
      ],
      "source": [
        "y"
      ]
    },
    {
      "cell_type": "markdown",
      "metadata": {
        "id": "KPw6jv5hYXhV"
      },
      "source": [
        "Никакой магии, просто многомерные матрицы. Можно даже проверить, что то, что мы получили, то есть первый батч имееет правильную размерность.В y - 1 это класс цифры \"7\", 0 - \"3\""
      ]
    },
    {
      "cell_type": "code",
      "execution_count": 8,
      "metadata": {
        "colab": {
          "base_uri": "https://localhost:8080/"
        },
        "id": "mQH1_6dSYlnW",
        "outputId": "4e35142c-99de-4987-d1ee-32e3f502c6ed"
      },
      "outputs": [
        {
          "output_type": "execute_result",
          "data": {
            "text/plain": [
              "torch.Size([128, 1, 28, 28])"
            ]
          },
          "metadata": {},
          "execution_count": 8
        }
      ],
      "source": [
        "X.shape #128 - примеров, [1, 28, 28] - размерность картинки, 1 - значит что из трех каналов (Р, Г, Б) у нас всего один, а сама картинка 28 на 28"
      ]
    },
    {
      "cell_type": "code",
      "execution_count": 9,
      "metadata": {
        "colab": {
          "base_uri": "https://localhost:8080/"
        },
        "id": "yGAYt4oqYpW5",
        "outputId": "0d47a8ab-e932-4567-b635-fe156f83a420"
      },
      "outputs": [
        {
          "output_type": "execute_result",
          "data": {
            "text/plain": [
              "torch.Size([128])"
            ]
          },
          "metadata": {},
          "execution_count": 9
        }
      ],
      "source": [
        "y.shape"
      ]
    },
    {
      "cell_type": "markdown",
      "metadata": {
        "id": "CNVEJYNXN_Gd"
      },
      "source": [
        "Проверим, правда ли это картинки"
      ]
    },
    {
      "cell_type": "code",
      "execution_count": 10,
      "metadata": {
        "colab": {
          "base_uri": "https://localhost:8080/",
          "height": 420
        },
        "id": "-Kkv2jAKN_Ge",
        "outputId": "bd8b3805-2f3e-4e90-ba6c-0437d38869fd"
      },
      "outputs": [
        {
          "output_type": "display_data",
          "data": {
            "text/plain": [
              "<Figure size 432x504 with 25 Axes>"
            ],
            "image/png": "[encoded data removed]"
          },
          "metadata": {
            "needs_background": "light"
          }
        }
      ],
      "source": [
        "X, y = next(iter(train_loader))\n",
        "X = X.numpy() # перевод тензора в массив нумпай, просто изменение типа данных \n",
        "y = y.numpy()\n",
        "\n",
        "plt.figure(figsize=(6, 7))\n",
        "for i in range(25):\n",
        "    plt.subplot(5, 5, i+1)\n",
        "    plt.imshow(X[i].reshape(28, 28), cmap=plt.cm.Greys_r)\n",
        "    plt.title(y[i])\n",
        "    plt.axis('off')"
      ]
    },
    {
      "cell_type": "markdown",
      "metadata": {
        "id": "jL6Cd-7tb29_"
      },
      "source": [
        "Нам столько размерностей не нужно, поэтому давайте выпрямим матрицу, тем боле мы знаем что значение каждого пикселя независимо друг друга."
      ]
    },
    {
      "cell_type": "code",
      "execution_count": 11,
      "metadata": {
        "colab": {
          "base_uri": "https://localhost:8080/"
        },
        "id": "tDiEEUYJN_G6",
        "outputId": "0477c05e-6a94-45c7-e2bd-0ff47d58ecec"
      },
      "outputs": [
        {
          "output_type": "execute_result",
          "data": {
            "text/plain": [
              "torch.Size([128, 784])"
            ]
          },
          "metadata": {},
          "execution_count": 11
        }
      ],
      "source": [
        "X, y = next(iter(train_loader))\n",
        "X = X.view(X.shape[0], -1)\n",
        "X.shape"
      ]
    },
    {
      "cell_type": "markdown",
      "metadata": {
        "id": "6_m0y3z9N_HN"
      },
      "source": [
        " Размерность\n",
        "- количество примеров в батче\n",
        "- количество фичей"
      ]
    },
    {
      "cell_type": "code",
      "execution_count": 12,
      "metadata": {
        "colab": {
          "base_uri": "https://localhost:8080/"
        },
        "id": "0rRs_fibN_HX",
        "outputId": "52b1d5de-4194-4682-bc7c-5d3bcdd50949"
      },
      "outputs": [
        {
          "output_type": "execute_result",
          "data": {
            "text/plain": [
              "tensor([1, 1, 1, 1, 1, 0, 0, 0, 1, 1, 0, 0, 1, 1, 1, 0, 0, 0, 1, 1, 0, 0, 1, 0,\n",
              "        1, 0, 1, 0, 1, 1, 1, 0, 1, 0, 1, 1, 0, 0, 1, 0, 0, 1, 0, 1, 1, 1, 0, 1,\n",
              "        0, 0, 1, 1, 0, 1, 0, 0, 1, 0, 0, 1, 0, 0, 1, 1, 1, 1, 0, 0, 0, 1, 0, 1,\n",
              "        1, 0, 0, 0, 1, 0, 0, 0, 1, 0, 1, 1, 0, 1, 1, 1, 0, 0, 1, 0, 0, 0, 1, 0,\n",
              "        0, 0, 0, 0, 0, 0, 1, 1, 1, 0, 1, 1, 0, 0, 0, 1, 1, 1, 0, 0, 1, 0, 0, 1,\n",
              "        0, 1, 0, 1, 0, 1, 1, 1])"
            ]
          },
          "metadata": {},
          "execution_count": 12
        }
      ],
      "source": [
        "y"
      ]
    },
    {
      "cell_type": "markdown",
      "metadata": {
        "id": "Z4vTsvPZdPQg"
      },
      "source": [
        "Такой У нам не совсем подходит. Сейчас объясню почему. Размерность Х (128,784) матрично перемножим на скрытый слой (784,1) и получится (128,1). Нужно понимать, что размерность (128,) и (128,1) это немного разные вещи  "
      ]
    },
    {
      "cell_type": "code",
      "execution_count": 13,
      "metadata": {
        "colab": {
          "base_uri": "https://localhost:8080/"
        },
        "id": "98g7689ON_Hc",
        "outputId": "e095467b-230f-4f30-c864-7919c4f35da0"
      },
      "outputs": [
        {
          "output_type": "execute_result",
          "data": {
            "text/plain": [
              "torch.Size([128, 1])"
            ]
          },
          "metadata": {},
          "execution_count": 13
        }
      ],
      "source": [
        "w = torch.rand(784, 1) #Рандомные необученые веса\n",
        "pred = X.matmul(w)\n",
        "pred.shape"
      ]
    },
    {
      "cell_type": "code",
      "execution_count": 14,
      "metadata": {
        "colab": {
          "base_uri": "https://localhost:8080/"
        },
        "id": "KG9L5xtJd9TQ",
        "outputId": "d17a68bd-ae78-4e42-d269-0ab3a6c91138"
      },
      "outputs": [
        {
          "output_type": "execute_result",
          "data": {
            "text/plain": [
              "tensor([[-11.1417],\n",
              "        [  6.9602],\n",
              "        [ -2.2085],\n",
              "        [ 34.6145],\n",
              "        [ 35.5876],\n",
              "        [  4.6598],\n",
              "        [-19.0236],\n",
              "        [ 86.7130],\n",
              "        [-33.0106],\n",
              "        [-16.4439],\n",
              "        [-12.3195],\n",
              "        [-48.7598],\n",
              "        [-39.0887],\n",
              "        [-33.7445],\n",
              "        [-78.4798],\n",
              "        [ 77.0144],\n",
              "        [ 55.7982],\n",
              "        [ -9.9223],\n",
              "        [-36.9950],\n",
              "        [-69.0104],\n",
              "        [-45.6011],\n",
              "        [ 74.4886],\n",
              "        [ 16.2718],\n",
              "        [  4.4489],\n",
              "        [  8.6265],\n",
              "        [-27.6152],\n",
              "        [ -6.7584],\n",
              "        [-54.8974],\n",
              "        [-71.4007],\n",
              "        [ 47.8314],\n",
              "        [ 43.0110],\n",
              "        [-28.7229],\n",
              "        [ -9.7258],\n",
              "        [ 49.2879],\n",
              "        [-88.1306],\n",
              "        [-14.2144],\n",
              "        [ 28.6158],\n",
              "        [-44.4725],\n",
              "        [-13.8134],\n",
              "        [ 74.5229],\n",
              "        [ 25.3862],\n",
              "        [-52.7152],\n",
              "        [ 36.0632],\n",
              "        [ 68.1511],\n",
              "        [ 10.2889],\n",
              "        [ -2.8674],\n",
              "        [-45.8790],\n",
              "        [-11.5851],\n",
              "        [  4.6178],\n",
              "        [  1.0933],\n",
              "        [ 27.3364],\n",
              "        [-11.4818],\n",
              "        [ 89.5342],\n",
              "        [ 56.8857],\n",
              "        [-12.4983],\n",
              "        [ 34.8201],\n",
              "        [-34.3656],\n",
              "        [-37.2982],\n",
              "        [-14.7762],\n",
              "        [-24.9429],\n",
              "        [143.1755],\n",
              "        [ 11.3281],\n",
              "        [-64.7616],\n",
              "        [-86.4643],\n",
              "        [-24.5599],\n",
              "        [-52.6024],\n",
              "        [-54.3625],\n",
              "        [ 10.6234],\n",
              "        [100.1198],\n",
              "        [  2.7673],\n",
              "        [ 29.1269],\n",
              "        [-37.2352],\n",
              "        [ 27.8988],\n",
              "        [ 41.1280],\n",
              "        [ 82.9887],\n",
              "        [ 59.4550],\n",
              "        [-53.9234],\n",
              "        [ 31.1993],\n",
              "        [ 38.2932],\n",
              "        [  8.7711],\n",
              "        [ -3.4501],\n",
              "        [-15.7625],\n",
              "        [-36.2386],\n",
              "        [-79.5940],\n",
              "        [-14.3929],\n",
              "        [ -1.4396],\n",
              "        [ 18.2306],\n",
              "        [ -1.3683],\n",
              "        [ 16.4315],\n",
              "        [  2.0015],\n",
              "        [ 55.6322],\n",
              "        [109.6861],\n",
              "        [ 87.1850],\n",
              "        [-15.9119],\n",
              "        [-63.2212],\n",
              "        [-64.3776],\n",
              "        [ 42.3209],\n",
              "        [ 50.7295],\n",
              "        [ 85.1118],\n",
              "        [-33.4798],\n",
              "        [-17.8339],\n",
              "        [164.5118],\n",
              "        [-43.0318],\n",
              "        [-34.3331],\n",
              "        [-19.7470],\n",
              "        [  4.3376],\n",
              "        [ -1.5013],\n",
              "        [-14.2326],\n",
              "        [-26.0949],\n",
              "        [-26.1351],\n",
              "        [-16.4954],\n",
              "        [-39.5884],\n",
              "        [  2.2818],\n",
              "        [ 13.5286],\n",
              "        [-36.4036],\n",
              "        [ 84.1810],\n",
              "        [  3.2876],\n",
              "        [-22.9139],\n",
              "        [ 63.7327],\n",
              "        [-45.8966],\n",
              "        [ 54.8647],\n",
              "        [-56.1485],\n",
              "        [ 67.7917],\n",
              "        [-35.7386],\n",
              "        [-14.0921],\n",
              "        [-90.7787],\n",
              "        [-23.8693],\n",
              "        [  1.5007]])"
            ]
          },
          "metadata": {},
          "execution_count": 14
        }
      ],
      "source": [
        "pred"
      ]
    },
    {
      "cell_type": "markdown",
      "metadata": {
        "id": "Rb1hswcGeEpc"
      },
      "source": [
        "Теперь у нас есть предсказания и их размерность (128,1). Нужно будет счтить лосс с у, поэтому приведем его к такой же размерности с expand_dims - это функция есть в нумпае, также есть и в торче"
      ]
    },
    {
      "cell_type": "code",
      "execution_count": 15,
      "metadata": {
        "id": "wAIFQMfwN_Hl"
      },
      "outputs": [],
      "source": [
        "y = np.expand_dims(y, 1)"
      ]
    },
    {
      "cell_type": "code",
      "execution_count": 16,
      "metadata": {
        "colab": {
          "base_uri": "https://localhost:8080/"
        },
        "id": "SrlrvUq7N_Hw",
        "outputId": "8d7734d2-c1d9-4578-ca6d-e271d092582c"
      },
      "outputs": [
        {
          "output_type": "execute_result",
          "data": {
            "text/plain": [
              "array([[1],\n",
              "       [1],\n",
              "       [1],\n",
              "       [1],\n",
              "       [1],\n",
              "       [0],\n",
              "       [0],\n",
              "       [0],\n",
              "       [1],\n",
              "       [1],\n",
              "       [0],\n",
              "       [0],\n",
              "       [1],\n",
              "       [1],\n",
              "       [1],\n",
              "       [0],\n",
              "       [0],\n",
              "       [0],\n",
              "       [1],\n",
              "       [1],\n",
              "       [0],\n",
              "       [0],\n",
              "       [1],\n",
              "       [0],\n",
              "       [1],\n",
              "       [0],\n",
              "       [1],\n",
              "       [0],\n",
              "       [1],\n",
              "       [1],\n",
              "       [1],\n",
              "       [0],\n",
              "       [1],\n",
              "       [0],\n",
              "       [1],\n",
              "       [1],\n",
              "       [0],\n",
              "       [0],\n",
              "       [1],\n",
              "       [0],\n",
              "       [0],\n",
              "       [1],\n",
              "       [0],\n",
              "       [1],\n",
              "       [1],\n",
              "       [1],\n",
              "       [0],\n",
              "       [1],\n",
              "       [0],\n",
              "       [0],\n",
              "       [1],\n",
              "       [1],\n",
              "       [0],\n",
              "       [1],\n",
              "       [0],\n",
              "       [0],\n",
              "       [1],\n",
              "       [0],\n",
              "       [0],\n",
              "       [1],\n",
              "       [0],\n",
              "       [0],\n",
              "       [1],\n",
              "       [1],\n",
              "       [1],\n",
              "       [1],\n",
              "       [0],\n",
              "       [0],\n",
              "       [0],\n",
              "       [1],\n",
              "       [0],\n",
              "       [1],\n",
              "       [1],\n",
              "       [0],\n",
              "       [0],\n",
              "       [0],\n",
              "       [1],\n",
              "       [0],\n",
              "       [0],\n",
              "       [0],\n",
              "       [1],\n",
              "       [0],\n",
              "       [1],\n",
              "       [1],\n",
              "       [0],\n",
              "       [1],\n",
              "       [1],\n",
              "       [1],\n",
              "       [0],\n",
              "       [0],\n",
              "       [1],\n",
              "       [0],\n",
              "       [0],\n",
              "       [0],\n",
              "       [1],\n",
              "       [0],\n",
              "       [0],\n",
              "       [0],\n",
              "       [0],\n",
              "       [0],\n",
              "       [0],\n",
              "       [0],\n",
              "       [1],\n",
              "       [1],\n",
              "       [1],\n",
              "       [0],\n",
              "       [1],\n",
              "       [1],\n",
              "       [0],\n",
              "       [0],\n",
              "       [0],\n",
              "       [1],\n",
              "       [1],\n",
              "       [1],\n",
              "       [0],\n",
              "       [0],\n",
              "       [1],\n",
              "       [0],\n",
              "       [0],\n",
              "       [1],\n",
              "       [0],\n",
              "       [1],\n",
              "       [0],\n",
              "       [1],\n",
              "       [0],\n",
              "       [1],\n",
              "       [1],\n",
              "       [1]])"
            ]
          },
          "metadata": {},
          "execution_count": 16
        }
      ],
      "source": [
        "y"
      ]
    },
    {
      "cell_type": "markdown",
      "metadata": {
        "id": "TFAKpwY_N_H_"
      },
      "source": [
        "Итерация по эпохам"
      ]
    },
    {
      "cell_type": "code",
      "execution_count": 17,
      "metadata": {
        "colab": {
          "base_uri": "https://localhost:8080/"
        },
        "id": "DWmQFlyWN_IB",
        "outputId": "ebb2cdb4-993c-4c95-c7f5-f782045acb16"
      },
      "outputs": [
        {
          "output_type": "stream",
          "name": "stdout",
          "text": [
            "Эпоха - 1, прошли - 100.00 % датасета\n",
            "Эпоха - 2, прошли - 100.00 % датасета\n",
            "Эпоха - 3, прошли - 100.00 % датасета\n"
          ]
        }
      ],
      "source": [
        "epochs = 3\n",
        "\n",
        "for n_epoch in range(epochs):\n",
        "    \n",
        "    dataset_passed_samples = 0\n",
        "    \n",
        "    for x, y in train_loader:\n",
        "        \n",
        "        # вот здесь мы могли бы как-то манипулировать с данными, например, учить, но пока этого делать не будет\n",
        "        \n",
        "        time.sleep(0.05)\n",
        "        \n",
        "        dataset_passed_samples += x.shape[0]\n",
        "        \n",
        "        dataset_passed_percent = dataset_passed_samples * 100 / train_loader.dataset.data.shape[0]\n",
        "        \n",
        "        print(f'Эпоха - {n_epoch + 1}, прошли - {dataset_passed_percent:.2f} % датасета', end='\\r')\n",
        "        \n",
        "    print('\\r')"
      ]
    },
    {
      "cell_type": "markdown",
      "metadata": {
        "id": "8iBd9MS_f7Eg"
      },
      "source": [
        "# Однослойный персептрон"
      ]
    },
    {
      "cell_type": "code",
      "execution_count": 18,
      "metadata": {
        "colab": {
          "base_uri": "https://localhost:8080/"
        },
        "id": "x9wKt3z1gIo7",
        "outputId": "0eb39e36-40f3-46f0-bf56-4546afed73dc"
      },
      "outputs": [
        {
          "output_type": "stream",
          "name": "stdout",
          "text": [
            "Epoch: 1\n",
            "Epoch: 2\n",
            "Epoch: 3\n",
            "Epoch: 4\n",
            "Epoch: 5\n"
          ]
        }
      ],
      "source": [
        "learning_rate = 0.01 # тот самый лернинг рейт, который определяет какую часть от градиента мы будем брать\n",
        "epochs = 5  #сколько раз мы пройдем по всему тренировачному набору наших данных\n",
        "\n",
        "batch_size = 128  #это число примеров в баче понадобится нам при обучении чтобы усреднять лосс (ошибку обучения)\n",
        "n_feat = 784\n",
        "\n",
        "w1 = np.random.rand(n_feat,1)*0.01 #0.01 - нормируем таким образом наши веса, чтобы избежать деления на ноль при бэкпропе, \n",
        "                                    #эмпирически выбрано, так как сами фичи у нас имеют значения близкие к 0\n",
        "b1 = np.zeros(1) #размерность должна совпадать с количеством параметров, которые у нас останутся после матричного перемножения\n",
        "\n",
        "losses = [] #на каждой итерации (и для всех эпох) будем сохранять сюда наш Лосс, чтобы видеть обучается ли НС\n",
        "\n",
        "for n_epoch in range(epochs):\n",
        "    \n",
        "    print(f'Epoch: {n_epoch + 1}')\n",
        "    \n",
        "    for x, y in train_loader:\n",
        "\n",
        "        x = x.view(x.shape[0], -1).numpy() #приводим к размерности (128,784)\n",
        "        y = np.expand_dims(y.numpy(), 1) #приводим к размерности (128,1)\n",
        "\n",
        "        h1 = x.dot(w1) + b1 #переход в одномерное пространство\n",
        "        p = 1/(1+np.exp(-h1)) #преобразование в \"вероятности\"\n",
        "        \n",
        "        bce = (-np.sum(np.multiply(np.log(p), y) + np.multiply((1 - y), np.log(1 - p)))) / batch_size \n",
        "        #расчет энтропии с усреднением по размеру бача\n",
        "          \n",
        "        losses.append(bce) \n",
        "        #ниже производная bce и sigmoid, если вы распишите две этих производные, перемножите и сократите, то полчится следующая строчка\n",
        "        dp = (p - y) / batch_size \n",
        "        dw1 = np.dot(x.T, dp) # производная по линейному преобразванию, относительно W - весов \n",
        "        db1 = np.sum(dp) # производная по лин преобразованиюб относительно В - баяса, \n",
        "        #здесь по идее должно быть перемножение на единичный вектор (128,1), но это тоже самое что и сумма значениеб типа лайф хак\n",
        "        \n",
        "        w1 -= learning_rate * dw1 # Обновим веса и баясы \n",
        "        b1 -= learning_rate * db1"
      ]
    },
    {
      "cell_type": "markdown",
      "metadata": {
        "id": "Lc3-pw-4wMum"
      },
      "source": [
        "А теперь построим график функции потерь"
      ]
    },
    {
      "cell_type": "code",
      "execution_count": 19,
      "metadata": {
        "colab": {
          "base_uri": "https://localhost:8080/",
          "height": 748
        },
        "id": "NvB4U5OXhE3t",
        "outputId": "a4d3858d-da35-437d-cf06-59432bebe1bb"
      },
      "outputs": [
        {
          "output_type": "execute_result",
          "data": {
            "text/plain": [
              "Text(0, 0.5, 'Loss function')"
            ]
          },
          "metadata": {},
          "execution_count": 19
        },
        {
          "output_type": "display_data",
          "data": {
            "text/plain": [
              "<Figure size 1008x864 with 1 Axes>"
            ],
            "image/png": "[encoded data removed]"
          },
          "metadata": {
            "needs_background": "light"
          }
        }
      ],
      "source": [
        "plt.figure(figsize=(14, 12))\n",
        "plt.plot(losses)\n",
        "plt.grid()\n",
        "plt.title('Training process')\n",
        "plt.xlabel('Iterations')\n",
        "plt.ylabel('Loss function')"
      ]
    },
    {
      "cell_type": "markdown",
      "metadata": {
        "id": "IfpCVrN2tO5S"
      },
      "source": [
        "## Математика \n",
        "\n",
        "\n",
        "![alt text](https://sun9-39.userapi.com/c850608/v850608777/47a4/fgZlI898IUU.jpg)\n",
        "![alt text](https://sun9-41.userapi.com/c858216/v858216777/cc4f5/v3CPa-tnm80.jpg)\n",
        "![alt text](https://sun9-67.userapi.com/c857632/v857632471/f6e95/H0dsmWsUInc.jpg)\n",
        "![alt text](https://sun9-71.userapi.com/c858120/v858120274/10d0ef/hdKO-3Syk3g.jpg)\n",
        "\n"
      ]
    },
    {
      "cell_type": "markdown",
      "metadata": {
        "id": "ToNAC3-bN_IN"
      },
      "source": [
        "А теперь ваша очередь, нужно написать двуслоный персептрон, согласно коду и выкладкам выше"
      ]
    },
    {
      "cell_type": "code",
      "execution_count": 20,
      "metadata": {
        "id": "yJSR8hdTN_IO",
        "outputId": "b60e2797-8ebc-466f-d83d-848f6cd843b3",
        "colab": {
          "base_uri": "https://localhost:8080/"
        }
      },
      "outputs": [
        {
          "output_type": "stream",
          "name": "stdout",
          "text": [
            "Epoch: 1\n",
            "Epoch: 2\n",
            "Epoch: 3\n",
            "Epoch: 4\n",
            "Epoch: 5\n"
          ]
        }
      ],
      "source": [
        "### КОД СЮДА ###\n",
        "\n",
        "learning_rate, epochs = 0.01, 5\n",
        "n_feat, inner_feat = 784, 300\n",
        "\n",
        "dimentions = [n_feat, inner_feat, 1]\n",
        "\n",
        "w1 = np.random.randn(dimentions[0], dimentions[1]) * 0.01 \n",
        "b1 = np.zeros(dimentions[1])        \n",
        "w2 = np.random.randn(dimentions[1], dimentions[2]) * 0.01 \n",
        "b2 = np.zeros(dimentions[2])  \n",
        "\n",
        "losses = []\n",
        "\n",
        "for n_epoch in range(epochs):\n",
        "    \n",
        "    print(f'Epoch: {n_epoch + 1}')\n",
        "    \n",
        "    for x, y in train_loader:\n",
        "        \n",
        "        x = x.view(x.shape[0], -1).numpy()\n",
        "        y = np.expand_dims(y.numpy(), 1)\n",
        "        \n",
        "        # вперед!:\n",
        "        z1 = x.dot(w1) + b1\n",
        "        a1 = 1 / (1 + np.exp(-z1))\n",
        "\n",
        "        z2 = a1.dot(w2) + b2\n",
        "        p = 1 / (1 + np.exp(-z2))\n",
        "        \n",
        "        # bce!:\n",
        "        bce = (-np.sum(np.multiply(np.log(p), y) + np.multiply((1 - y), np.log(1 - p)))) / batch_size\n",
        "        losses.append(bce) \n",
        "\n",
        "        # назад!:\n",
        "        dlz2 = (p - y) / batch_size\n",
        "\n",
        "        dlw2 = np.dot(p.T, dlz2)\n",
        "        dlb2 = np.sum(dlz2)\n",
        "\n",
        "        da1z1 = a1 * (1 - a1)\n",
        "        dlz1 = dlz2.dot(w2.T) * da1z1 * batch_size\n",
        "\n",
        "        dlw1 = np.dot(x.T, dlz1)\n",
        "        dlb1 = np.sum(dlz1)\n",
        "        \n",
        "\n",
        "        w1 -= learning_rate * dlw1 \n",
        "        b1 -= learning_rate * dlb1\n",
        "        w2 -= learning_rate * dlw2\n",
        "        b2 -= learning_rate * dlb2"
      ]
    },
    {
      "cell_type": "markdown",
      "metadata": {
        "id": "ur7SqyVGN_IY"
      },
      "source": [
        "## Подсказки по размерностям\n",
        "\n",
        "### Forward\n",
        "\n",
        "- z1 - первое линейное преобразование - (BATCH_SIZE, INNER_FEATURES)\n",
        "- a1 - Применение нелинейности - (BATCH_SIZE, INNER_FEATURES)\n",
        "- z2 - второе нелинейное преобразование - (BATCH_SIZE, 1)\n",
        "- pred or A2- сигмоида - (BATCH_SIZE, 1)\n",
        "- loss - функция потерь - скаляр\n",
        "\n",
        "### Backward\n",
        "\n",
        "- d_BCE/d_pred - градиент функции потерь по pred - (BATCH_SIZE, 1)\n",
        "- d_pred/dz2 - градиент сигмоиды по z2 - (BATCH_SIZE, 1)\n",
        "- dz2/da1 - градиент линейного преобразования по a1 - (BATCH_SIZE, INNER_FEATURES)\n",
        "- dz2/dw2 - градиент линейного преобразования по w2 - (INNER_FEATURES, 1)\n",
        "- dz2/db2 - градиент линейного преобразования по b2 - (1,)\n",
        "- da1/dz1 - градиент нелинейной функции по z1 - (BATCH_SIZE, INNER_FEATURES)\n",
        "- dz1/dw1 - градиент линейного преобразования по w1 - (IN_FEATURES, INNER_FEATURES)\n",
        "- dz1/db1 - градиент линейного преобразования по b1 - (INNER_FEATURES,)"
      ]
    },
    {
      "cell_type": "markdown",
      "metadata": {
        "id": "ihOoASMAN_Ia"
      },
      "source": [
        "и график нарисуйте"
      ]
    },
    {
      "cell_type": "code",
      "execution_count": 21,
      "metadata": {
        "id": "CwRzXKRNN_Ic",
        "outputId": "beae25d7-5d61-4623-e78e-1cff6d9a91c6",
        "colab": {
          "base_uri": "https://localhost:8080/",
          "height": 730
        }
      },
      "outputs": [
        {
          "output_type": "display_data",
          "data": {
            "text/plain": [
              "<Figure size 1008x864 with 1 Axes>"
            ],
            "image/png": "[encoded data removed]"
          },
          "metadata": {
            "needs_background": "light"
          }
        }
      ],
      "source": [
        "plt.figure(figsize=(14, 12))\n",
        "plt.plot(losses)\n",
        "plt.grid()\n",
        "plt.title('Training process')\n",
        "plt.xlabel('Iterations')\n",
        "plt.ylabel('Loss function');"
      ]
    },
    {
      "cell_type": "code",
      "execution_count": null,
      "metadata": {
        "id": "vigk5CgmIDsP"
      },
      "outputs": [],
      "source": []
    },
    {
      "cell_type": "markdown",
      "metadata": {
        "id": "axU2DnJ1IT1J"
      },
      "source": [
        "# Тестирование"
      ]
    },
    {
      "cell_type": "markdown",
      "metadata": {
        "id": "4sd8o1ZbIEXH"
      },
      "source": [
        "А как это тестировать? Да, очень просто нужно просто выполнять форвард без бэкворда, то есть последовательно применять преобразования с обученными весами"
      ]
    },
    {
      "cell_type": "code",
      "execution_count": 22,
      "metadata": {
        "id": "7DKeGWwzIliO"
      },
      "outputs": [],
      "source": [
        "losses_test = []\n",
        "predicted = []\n",
        "true_lbls = []\n",
        "\n",
        "for x, y in test_loader:\n",
        "\n",
        "  x = x.view(x.shape[0], -1).numpy()\n",
        "  y = np.expand_dims(y.numpy(), 1)\n",
        "\n",
        "  h1 = x.dot(w1) + b1 #переход в одномерное пространство\n",
        "  p = 1/(1+np.exp(-h1)) #преобразование в \"вероятности\"\n",
        "  \n",
        "  bce = (-np.sum(np.multiply(np.log(p), y) + np.multiply((1 - y), np.log(1 - p)))) / batch_size \n",
        "  #расчет энтропии с усреднением по размеру бача\n",
        "    \n",
        "  losses_test.append(bce)\n",
        "  predicted.extend(p)\n",
        "  true_lbls.extend(y) "
      ]
    },
    {
      "cell_type": "markdown",
      "metadata": {
        "id": "259SOuP5K2HR"
      },
      "source": [
        "Проверим, что для каждого семплау нас есть предсказание"
      ]
    },
    {
      "cell_type": "code",
      "execution_count": 23,
      "metadata": {
        "colab": {
          "base_uri": "https://localhost:8080/"
        },
        "id": "J3NQGFxfJY-4",
        "outputId": "00d5b6de-c788-45ab-d847-918e9aee8e38"
      },
      "outputs": [
        {
          "output_type": "stream",
          "name": "stdout",
          "text": [
            "2038 2038\n"
          ]
        }
      ],
      "source": [
        "print(len(predicted), len(true_lbls))"
      ]
    },
    {
      "cell_type": "markdown",
      "metadata": {
        "id": "xWJ3fjLhK9z4"
      },
      "source": [
        "Теперь применим стандартную Ф меру и оценим нашу модель"
      ]
    },
    {
      "cell_type": "code",
      "execution_count": 24,
      "metadata": {
        "colab": {
          "base_uri": "https://localhost:8080/"
        },
        "id": "BbD-n9rVJlBe",
        "outputId": "d8f7de70-b53b-4dee-99b0-c183086ee988"
      },
      "outputs": [
        {
          "output_type": "stream",
          "name": "stdout",
          "text": [
            "F1 score is equal to: 0.97\n"
          ]
        }
      ],
      "source": [
        "from sklearn.metrics import f1_score\n",
        "pred = np.array([round(i[0]) for i in predicted]) \n",
        "# У нас были вероятности а нужны классы поэтому просто округлим каждое значени и получим лейблы \n",
        "t_lbls = np.array(true_lbls).squeeze() #снимем лишнюю размерность\n",
        "f1 = f1_score(pred, t_lbls, average='weighted')\n",
        "print('F1 score is equal to: {0:0.02f}'.format(f1))"
      ]
    },
    {
      "cell_type": "markdown",
      "metadata": {
        "id": "vMxfUk9DLfNx"
      },
      "source": [
        "Сделайте тоже самое для своей модели..."
      ]
    },
    {
      "cell_type": "code",
      "execution_count": 25,
      "metadata": {
        "id": "plkig1rcLmG_"
      },
      "outputs": [],
      "source": [
        "losses_test = []\n",
        "predicted = []\n",
        "true_lbls = []\n",
        "\n",
        "for x, y in test_loader:\n",
        "\n",
        "  x = x.view(x.shape[0], -1).numpy()\n",
        "  y = np.expand_dims(y.numpy(), 1)\n",
        "\n",
        "  z1 = x.dot(w1) + b1 \n",
        "  a1 = 1 / (1 + np.exp(-z1))\n",
        "  z2 = a1.dot(w2) + b2\n",
        "  p = 1 / (1 + np.exp(-z2))\n",
        "  \n",
        "  bce = (-np.sum(np.multiply(np.log(p), y) + np.multiply((1 - y), np.log(1 - p)))) / batch_size \n",
        "    \n",
        "  losses_test.append(bce)\n",
        "  predicted.extend(p)\n",
        "  true_lbls.extend(y) "
      ]
    },
    {
      "cell_type": "code",
      "source": [
        "pred = np.array([round(i[0]) for i in predicted]) \n",
        "t_lbls = np.array(true_lbls).squeeze()\n",
        "f1 = f1_score(pred, t_lbls, average='weighted')\n",
        "print('F1 score is equal to: {0:0.02f}'.format(f1))"
      ],
      "metadata": {
        "colab": {
          "base_uri": "https://localhost:8080/"
        },
        "id": "EISn72Ta0kyB",
        "outputId": "19a7fc0e-5f25-4630-ae44-07f22ca52559"
      },
      "execution_count": 26,
      "outputs": [
        {
          "output_type": "stream",
          "name": "stdout",
          "text": [
            "F1 score is equal to: 0.97\n"
          ]
        }
      ]
    },
    {
      "cell_type": "markdown",
      "metadata": {
        "id": "zHg6S-QgN_Mm"
      },
      "source": [
        "# Немного торча"
      ]
    },
    {
      "cell_type": "code",
      "execution_count": 27,
      "metadata": {
        "id": "rWON-EQvN_Mn"
      },
      "outputs": [],
      "source": [
        "import torch"
      ]
    },
    {
      "cell_type": "markdown",
      "metadata": {
        "id": "MYyJMcmQN_Mq"
      },
      "source": [
        "### Мы можем определить нашу модель как последовательность уже существующих слоев, как в керасе"
      ]
    },
    {
      "cell_type": "code",
      "execution_count": 28,
      "metadata": {
        "colab": {
          "base_uri": "https://localhost:8080/"
        },
        "id": "7WkLbwyAN_Mr",
        "outputId": "66005c1e-81fa-41d1-bb86-15e5bb62d47c"
      },
      "outputs": [
        {
          "output_type": "execute_result",
          "data": {
            "text/plain": [
              "Sequential(\n",
              "  (linear_1): Linear(in_features=784, out_features=256, bias=True)\n",
              "  (relu): ReLU()\n",
              "  (linear_2): Linear(in_features=256, out_features=1, bias=True)\n",
              "  (sigmoid): Sigmoid()\n",
              ")"
            ]
          },
          "metadata": {},
          "execution_count": 28
        }
      ],
      "source": [
        "model = torch.nn.Sequential()\n",
        "\n",
        "model.add_module(name='linear_1', module=torch.nn.Linear(in_features=784, out_features=256))\n",
        "model.add_module(name='relu', module=torch.nn.ReLU())\n",
        "model.add_module(name='linear_2', module=torch.nn.Linear(in_features=256, out_features=1))\n",
        "model.add_module(name='sigmoid', module=torch.nn.Sigmoid())\n",
        "\n",
        "model"
      ]
    },
    {
      "cell_type": "markdown",
      "metadata": {
        "id": "xFnSynhmN_Mw"
      },
      "source": [
        "### Либо так"
      ]
    },
    {
      "cell_type": "code",
      "execution_count": 29,
      "metadata": {
        "colab": {
          "base_uri": "https://localhost:8080/"
        },
        "id": "NjBXbnSNN_Mx",
        "outputId": "c7e533bc-546d-4360-f2de-6270936d7de7"
      },
      "outputs": [
        {
          "output_type": "execute_result",
          "data": {
            "text/plain": [
              "Sequential(\n",
              "  (0): Linear(in_features=784, out_features=256, bias=True)\n",
              "  (1): ReLU()\n",
              "  (2): Linear(in_features=256, out_features=1, bias=True)\n",
              "  (3): Sigmoid()\n",
              ")"
            ]
          },
          "metadata": {},
          "execution_count": 29
        }
      ],
      "source": [
        "model = torch.nn.Sequential(\n",
        "    torch.nn.Linear(in_features=784, out_features=256),\n",
        "    torch.nn.ReLU(),\n",
        "    torch.nn.Linear(in_features=256, out_features=1),\n",
        "    torch.nn.Sigmoid()\n",
        ")\n",
        "\n",
        "model"
      ]
    },
    {
      "cell_type": "markdown",
      "metadata": {
        "id": "MKOnBBifN_M1"
      },
      "source": [
        "## А вот для чего нужно было писать в домашке классы\n",
        "## Для определения своих моделей/слоев/чего вам захочется нам нужно сделать такую структуру"
      ]
    },
    {
      "cell_type": "code",
      "execution_count": 30,
      "metadata": {
        "id": "iNXM6WnUN_M9"
      },
      "outputs": [],
      "source": [
        "# наследуемся от класса torch.nn.Module\n",
        "class MLP(torch.nn.Module):\n",
        "    \n",
        "    # определяем метод __init__\n",
        "    # он нужен для того, чтобы мы могли определить нужные нам слои, веса, сохраняемые операции\n",
        "    # \n",
        "    # передаем ссылку на самого себя первым параметром\n",
        "    # \n",
        "    # определяем любые другие передаваемые аргументы\n",
        "    # могут быть чем угодно: числа, словари, другие слои, другие модели и вообще все что угодно\n",
        "    # \n",
        "    def __init__(self, in_features, inner_features, out_features):\n",
        "        \n",
        "        # Главная задача этого метода - возможность использования в классе потомке, методов класса-родителя\n",
        "        # Вызываем __init__ родителя - torch.nn.Module\n",
        "        super().__init__()\n",
        "        \n",
        "        # определяем слои и все что захотим сохранять/использовать\n",
        "        self.linear_1 = torch.nn.Linear(in_features=in_features, out_features=inner_features)\n",
        "        self.non_linear_function = torch.nn.ReLU()\n",
        "        self.linear_2 = torch.nn.Linear(in_features=inner_features, out_features=out_features)\n",
        "        self.sigmoid = torch.nn.Sigmoid()\n",
        "        \n",
        "    # нам нужно обязательно реализовать метод forward\n",
        "    # это то, что нашей модели нужно делать, как оперировать с входными данными, как рассчитывать\n",
        "    # метод backward нам не нужно реализовывать, потому что в торче есть автоматическое дифференцирование\n",
        "    # главное, чтобы наши операции были дифференцируемы\n",
        "    # некоторые подробности можете узнать здесь:\n",
        "    # https://pytorch.org/tutorials/beginner/blitz/autograd_tutorial.html#sphx-glr-beginner-blitz-autograd-tutorial-py\n",
        "    # также список доступных дифференцируемых операций можете посмотреть здесь:\n",
        "    # https://pytorch.org/docs/stable/tensors.html\n",
        "    def forward(self, x):\n",
        "        \n",
        "        # наша привычная схема\n",
        "        x = self.linear_1(x)\n",
        "        x = self.non_linear_function(x)\n",
        "        x = self.linear_2(x)\n",
        "        x = self.sigmoid(x)\n",
        "        \n",
        "        return x\n",
        "    \n",
        "    # мы также можем реализовать любые другие полезные нам методы внутри класса"
      ]
    },
    {
      "cell_type": "code",
      "execution_count": 31,
      "metadata": {
        "id": "Ftetvx8MN_NA"
      },
      "outputs": [],
      "source": [
        "# определяем нашу модель\n",
        "model = MLP(in_features=784, inner_features=256, out_features=1)"
      ]
    },
    {
      "cell_type": "code",
      "execution_count": 32,
      "metadata": {
        "colab": {
          "base_uri": "https://localhost:8080/"
        },
        "id": "G3zivrXiN_ND",
        "outputId": "57707692-5b02-4d3c-ae97-115af0b5ec7e",
        "scrolled": true
      },
      "outputs": [
        {
          "output_type": "execute_result",
          "data": {
            "text/plain": [
              "MLP(\n",
              "  (linear_1): Linear(in_features=784, out_features=256, bias=True)\n",
              "  (non_linear_function): ReLU()\n",
              "  (linear_2): Linear(in_features=256, out_features=1, bias=True)\n",
              "  (sigmoid): Sigmoid()\n",
              ")"
            ]
          },
          "metadata": {},
          "execution_count": 32
        }
      ],
      "source": [
        "model"
      ]
    },
    {
      "cell_type": "code",
      "execution_count": 33,
      "metadata": {
        "colab": {
          "base_uri": "https://localhost:8080/"
        },
        "id": "pa4BG_t_N_NG",
        "outputId": "8f8322ab-bd09-42d9-9794-7ba6e9a1ae99"
      },
      "outputs": [
        {
          "output_type": "execute_result",
          "data": {
            "text/plain": [
              "torch.Size([256, 784])"
            ]
          },
          "metadata": {},
          "execution_count": 33
        }
      ],
      "source": [
        "# можем посмотреть веса\n",
        "model.linear_1.weight.shape"
      ]
    },
    {
      "cell_type": "code",
      "execution_count": 34,
      "metadata": {
        "id": "n2hPqcyxN_NQ"
      },
      "outputs": [],
      "source": [
        "# еще нам нужно задать функцию потерь \n",
        "criterion = torch.nn.BCELoss()"
      ]
    },
    {
      "cell_type": "code",
      "execution_count": 35,
      "metadata": {
        "id": "IEpYutCqN_Na"
      },
      "outputs": [],
      "source": [
        "# и оптимизатор, куда нужно передать параметры модели\n",
        "# параметры модели можно взять методом класса .parameters()\n",
        "optimizer = torch.optim.SGD(params=model.parameters(), lr=0.01)"
      ]
    },
    {
      "cell_type": "code",
      "execution_count": 36,
      "metadata": {
        "colab": {
          "base_uri": "https://localhost:8080/"
        },
        "id": "V-ssB6KsN_Nf",
        "outputId": "5b1c4cb3-c5d4-42e2-9d1c-a596179316d3"
      },
      "outputs": [
        {
          "output_type": "execute_result",
          "data": {
            "text/plain": [
              "[Parameter containing:\n",
              " tensor([[-0.0279, -0.0273, -0.0300,  ...,  0.0085,  0.0052,  0.0090],\n",
              "         [ 0.0180,  0.0041, -0.0190,  ...,  0.0019,  0.0024,  0.0337],\n",
              "         [ 0.0227, -0.0204, -0.0104,  ..., -0.0160, -0.0186, -0.0230],\n",
              "         ...,\n",
              "         [-0.0101, -0.0051, -0.0356,  ..., -0.0194, -0.0259,  0.0045],\n",
              "         [ 0.0146,  0.0199, -0.0034,  ..., -0.0177,  0.0269,  0.0066],\n",
              "         [-0.0282, -0.0298,  0.0055,  ..., -0.0007, -0.0120, -0.0285]],\n",
              "        requires_grad=True), Parameter containing:\n",
              " tensor([ 2.9877e-02,  3.2344e-02,  1.3694e-03, -2.5388e-02, -2.3212e-02,\n",
              "          4.6620e-04, -2.4816e-02, -1.0421e-02, -2.5427e-02, -1.5034e-02,\n",
              "          2.1324e-02,  1.1525e-02,  7.4797e-03, -3.0025e-02, -2.2562e-02,\n",
              "          2.1824e-02, -2.8832e-02,  2.0963e-03,  3.1029e-02, -2.0363e-02,\n",
              "         -9.8168e-03, -1.4123e-02,  3.2887e-02,  1.0988e-02, -1.8455e-02,\n",
              "          2.1630e-02, -2.8418e-03, -3.1782e-02, -2.5504e-02, -9.2481e-04,\n",
              "         -1.6234e-02,  2.7514e-02, -1.0098e-02, -1.1223e-02,  2.6985e-02,\n",
              "          7.0679e-03,  3.4695e-02,  9.8212e-03, -4.3007e-03,  1.4525e-02,\n",
              "          8.7279e-03, -8.2785e-03, -2.1426e-02, -3.0194e-02,  1.0404e-02,\n",
              "         -1.9908e-02,  1.6966e-02,  1.0557e-03,  2.3509e-02, -2.1912e-02,\n",
              "          3.3808e-02,  3.0459e-02,  2.6010e-02,  1.5579e-03,  3.2769e-02,\n",
              "         -2.2710e-02, -8.7818e-03,  7.0857e-03,  4.0061e-03, -9.9463e-03,\n",
              "          2.0480e-02,  5.0995e-03,  8.2111e-03,  1.2161e-03, -1.1098e-02,\n",
              "          5.8079e-03, -2.2020e-02, -2.3340e-02,  2.9032e-02, -3.4321e-04,\n",
              "         -1.0505e-02, -1.6807e-02,  8.6949e-03,  6.1308e-03,  8.0860e-03,\n",
              "         -2.3222e-03, -1.5376e-02,  2.9411e-02, -3.0485e-02,  1.1266e-02,\n",
              "          2.6669e-02,  3.5639e-02, -2.7392e-02,  1.3488e-02,  5.9239e-03,\n",
              "         -1.7958e-02,  3.5745e-03,  1.9571e-02, -5.0498e-03,  2.0106e-02,\n",
              "         -1.1080e-03,  5.7714e-03,  2.5925e-02,  2.0559e-02, -1.4536e-02,\n",
              "          1.2429e-02,  3.5234e-02, -5.4453e-03, -6.3289e-03, -3.3964e-02,\n",
              "         -2.0892e-04, -1.1948e-03, -1.3977e-02,  3.1324e-03,  3.3379e-02,\n",
              "         -2.3939e-02, -2.6819e-02, -2.0575e-02,  6.5347e-03, -2.0610e-03,\n",
              "         -2.9293e-02,  2.8648e-02,  2.1002e-02,  1.8504e-02, -1.2934e-03,\n",
              "          1.9331e-03,  2.8293e-03, -7.6748e-03,  1.1544e-02, -6.1521e-03,\n",
              "          5.2869e-03, -1.4403e-03,  2.8416e-04,  1.6492e-02, -3.5690e-02,\n",
              "         -2.8049e-02, -1.6461e-02, -1.6749e-02,  2.9392e-02, -1.4488e-02,\n",
              "          3.3196e-02, -3.5695e-02,  1.0443e-02,  3.4060e-03,  3.8063e-03,\n",
              "          1.0942e-02,  6.5575e-03, -2.9635e-02, -4.8273e-03, -2.8983e-02,\n",
              "         -2.8468e-02,  2.1520e-02,  3.5094e-02, -1.8422e-02,  3.5652e-02,\n",
              "          7.6535e-03,  5.5299e-03, -2.3052e-02, -2.2493e-02, -2.9660e-02,\n",
              "          9.7701e-03, -1.2462e-02, -9.1843e-03,  2.5839e-02, -2.1038e-02,\n",
              "          2.5507e-03,  1.7110e-02, -1.8958e-02, -4.4052e-03,  3.3269e-03,\n",
              "         -2.2873e-02, -1.9953e-02, -2.1445e-02,  3.2584e-02, -1.7749e-02,\n",
              "          3.0945e-02,  8.4026e-03, -3.6380e-03,  5.6143e-03, -1.4342e-02,\n",
              "          3.5494e-02,  6.7486e-03, -8.0666e-03, -5.7715e-03,  2.8975e-02,\n",
              "          7.5334e-03, -6.2288e-03,  1.8280e-02, -2.0855e-02,  2.2074e-02,\n",
              "          6.0716e-03,  1.4482e-02,  8.3898e-03,  2.7433e-04,  2.8755e-02,\n",
              "          2.6048e-02,  2.5792e-02,  2.7654e-04, -7.1389e-03, -2.0810e-02,\n",
              "         -9.2281e-03,  1.4894e-02,  1.4637e-02, -2.0789e-02,  1.8657e-03,\n",
              "          2.4464e-02, -3.3267e-02,  3.0041e-02,  2.9180e-03,  1.4584e-02,\n",
              "          2.6998e-02,  2.3324e-02,  1.8857e-02, -8.3163e-03, -2.3284e-02,\n",
              "          5.9904e-03, -1.8972e-02, -1.5997e-03, -2.2189e-02,  2.4878e-02,\n",
              "         -3.3197e-02, -2.1612e-02, -1.9677e-03,  1.8211e-02,  2.8219e-02,\n",
              "         -1.7051e-02,  2.9333e-02, -2.8327e-02, -2.7925e-02,  1.7323e-04,\n",
              "          8.2565e-03, -2.7995e-02, -2.6215e-02,  3.3904e-04,  2.0660e-02,\n",
              "         -1.3592e-02,  2.2494e-02, -1.4789e-02,  5.2206e-03, -1.4139e-02,\n",
              "          2.5307e-02, -1.0873e-02,  1.6008e-03, -3.0436e-02,  2.6217e-02,\n",
              "         -3.3648e-02,  1.6468e-02,  2.9727e-02,  6.8237e-03,  1.7694e-02,\n",
              "          1.4015e-02, -2.2475e-02,  2.1798e-02, -2.3231e-02, -1.5421e-02,\n",
              "         -8.7125e-04,  1.4188e-02, -2.8087e-04,  2.1135e-02, -1.5114e-02,\n",
              "          8.4511e-05, -1.6257e-02, -2.5202e-02,  1.7429e-03, -2.0735e-02,\n",
              "          2.8780e-02], requires_grad=True), Parameter containing:\n",
              " tensor([[-0.0508,  0.0610, -0.0289,  0.0494,  0.0271, -0.0479, -0.0113,  0.0352,\n",
              "          -0.0246,  0.0604,  0.0048,  0.0550, -0.0150, -0.0523,  0.0112, -0.0180,\n",
              "           0.0561, -0.0345,  0.0403,  0.0533,  0.0031, -0.0329, -0.0228, -0.0557,\n",
              "          -0.0491,  0.0210, -0.0151,  0.0334,  0.0096, -0.0266,  0.0106, -0.0463,\n",
              "           0.0055, -0.0352, -0.0500,  0.0202,  0.0020, -0.0459,  0.0503, -0.0184,\n",
              "           0.0228,  0.0273,  0.0506,  0.0089,  0.0470, -0.0414, -0.0545, -0.0503,\n",
              "          -0.0241, -0.0377,  0.0179,  0.0221,  0.0077, -0.0271, -0.0526, -0.0260,\n",
              "           0.0079, -0.0442,  0.0547,  0.0156,  0.0598,  0.0534,  0.0123, -0.0082,\n",
              "          -0.0261, -0.0167, -0.0098, -0.0608,  0.0543, -0.0565,  0.0361, -0.0446,\n",
              "           0.0412,  0.0289, -0.0523, -0.0170,  0.0075, -0.0510, -0.0002, -0.0437,\n",
              "           0.0149, -0.0055,  0.0391, -0.0231, -0.0388, -0.0243,  0.0582, -0.0421,\n",
              "          -0.0453,  0.0546, -0.0521,  0.0145,  0.0469,  0.0012, -0.0136, -0.0431,\n",
              "           0.0124, -0.0378,  0.0398,  0.0262, -0.0331,  0.0571,  0.0474, -0.0499,\n",
              "          -0.0374, -0.0248, -0.0505,  0.0169,  0.0283,  0.0488,  0.0458, -0.0603,\n",
              "          -0.0556,  0.0052,  0.0308, -0.0306, -0.0334, -0.0507,  0.0138, -0.0416,\n",
              "           0.0315, -0.0309,  0.0505, -0.0020, -0.0495, -0.0489, -0.0207, -0.0017,\n",
              "           0.0157, -0.0426,  0.0025, -0.0049,  0.0455,  0.0523,  0.0228, -0.0602,\n",
              "          -0.0024, -0.0535,  0.0222,  0.0226, -0.0441,  0.0153,  0.0477,  0.0551,\n",
              "          -0.0228,  0.0584,  0.0083, -0.0212, -0.0122, -0.0201,  0.0087,  0.0045,\n",
              "           0.0229,  0.0042,  0.0445, -0.0067,  0.0107, -0.0126, -0.0318,  0.0541,\n",
              "           0.0070,  0.0150, -0.0493, -0.0527, -0.0021, -0.0019, -0.0397,  0.0076,\n",
              "           0.0604,  0.0153,  0.0287,  0.0565,  0.0064, -0.0374,  0.0599, -0.0154,\n",
              "          -0.0315,  0.0313, -0.0317,  0.0106,  0.0303,  0.0616, -0.0398, -0.0363,\n",
              "           0.0269, -0.0292,  0.0586, -0.0297, -0.0269, -0.0365,  0.0325, -0.0133,\n",
              "          -0.0380,  0.0145, -0.0256,  0.0588,  0.0402,  0.0473, -0.0441, -0.0112,\n",
              "           0.0422, -0.0431, -0.0217, -0.0237, -0.0470,  0.0514,  0.0475,  0.0385,\n",
              "           0.0011,  0.0485,  0.0191,  0.0090, -0.0246, -0.0355, -0.0115,  0.0248,\n",
              "          -0.0501,  0.0360, -0.0613,  0.0535,  0.0499,  0.0603, -0.0500,  0.0214,\n",
              "          -0.0563,  0.0069, -0.0128, -0.0579,  0.0323,  0.0302,  0.0299, -0.0310,\n",
              "          -0.0255, -0.0307, -0.0271, -0.0480,  0.0604,  0.0603, -0.0432,  0.0164,\n",
              "          -0.0085, -0.0297,  0.0394,  0.0538,  0.0337,  0.0269,  0.0398, -0.0581,\n",
              "           0.0022, -0.0301,  0.0502,  0.0321,  0.0195,  0.0366, -0.0319,  0.0427]],\n",
              "        requires_grad=True), Parameter containing:\n",
              " tensor([0.0216], requires_grad=True)]"
            ]
          },
          "metadata": {},
          "execution_count": 36
        }
      ],
      "source": [
        "# можем посмотреть на параметры нашей модели\n",
        "params = list(model.parameters())\n",
        "params"
      ]
    },
    {
      "cell_type": "markdown",
      "metadata": {
        "id": "5dnDbvw0N_No"
      },
      "source": [
        "# Обучим нашу модель"
      ]
    },
    {
      "cell_type": "code",
      "execution_count": 37,
      "metadata": {
        "id": "O8ayasdLN_Np"
      },
      "outputs": [],
      "source": [
        "# давайте сохранять значения нашей функции потерь каждую итерацию обучения\n",
        "losses = []\n",
        "\n",
        "# эта штука все еще отдает нам батчи данных\n",
        "# мы поговорим про нее позже\n",
        "for x, y in train_loader:\n",
        "\n",
        "    x = x.view(x.shape[0], -1)\n",
        "    y = y.unsqueeze(1).float()\n",
        "    \n",
        "    # обновим наши градиенты\n",
        "    # будем делать это каждую итерацию обучения\n",
        "    # потому что торч сохраняет в себе все градиенты пока не удалите таким образом рассчитанные градиенты\n",
        "    # \n",
        "    # НЕОБЯЗАТЕЛЬНЫЕ ДЕТАЛИ\n",
        "    # функция сохранения градиентов нужна для аккамуляции градиентов\n",
        "    # например, когда нам не хватает памяти на большой батч\n",
        "    # мы можем несколько раз прогнать forward на разных батчах\n",
        "    # наши градиенты будут сохраняться\n",
        "    # и только потом обновить через несколько итераций forward обновить наши веса\n",
        "    # таким образом у нас получается больше батч\n",
        "    # \n",
        "    optimizer.zero_grad()\n",
        "    \n",
        "    # \n",
        "    # предсказание нашей модели\n",
        "    # здесь торч сам сохраняет необходимую информацию\n",
        "    # чтобы понять эту логику у нас как раз и была часть домашки про собственные классы\n",
        "    # \n",
        "    # торч строит динамический граф вычислений\n",
        "    # то есть строит граф по тем операциям, которые вы определили в методе forward\n",
        "    # \n",
        "    # то есть торч понимает, что вы сначала применили линейное преобразование\n",
        "    # знает, где лежат веса для этого линейного преобразования\n",
        "    # знает, что вы затем применили релу\n",
        "    # затем опять линейное преобразование\n",
        "    # затем сигмоиду\n",
        "    # и вот таким образом торч выстроил граф\n",
        "    # который нужен будет для backpropogation\n",
        "    # \n",
        "    pred = model(x)\n",
        "    \n",
        "    # \n",
        "    # рассчитываем функцию потерь, добавляя в наш граф вычислений этот узел\n",
        "    # \n",
        "    loss = criterion(pred, y.float())\n",
        "    \n",
        "    # \n",
        "    # вызываем метод backward() от нашей функции потерь (это крайний узел нашего графа вычислений)\n",
        "    # этот метод проходит от конца графа в начало, вычисляя необходимые градиенты\n",
        "    # передаем градиенты на следующие узлы\n",
        "    # для весов сохраняет\n",
        "    # \n",
        "    # то есть это почти то же самое, что мы делали в домашке с классами\n",
        "    # \n",
        "    loss.backward()\n",
        "    \n",
        "    # \n",
        "    # теперь мы знаем необходимые градиенты и можем обновить веса с помощью градиентного спуска\n",
        "    # \n",
        "    optimizer.step()\n",
        "    \n",
        "    # \n",
        "    # сохраним текущее значение функции потерь, чтобы потом могли посмотреть на график\n",
        "    # очень важный момент: нам нужно отсоединить значение нашей фунции потерь от графа вычислений\n",
        "    # чтобы граф не строился дальше на каждой итерации обучения\n",
        "    # так мы рано или поздно переполним память\n",
        "    # поэтому вызываем этот метод\n",
        "    # работает для скаляров\n",
        "    # \n",
        "    # для тензоров работает метод .tolist()\n",
        "    # \n",
        "    current_loss_value = loss.item()\n",
        "    losses.append(loss.item())"
      ]
    },
    {
      "cell_type": "code",
      "execution_count": null,
      "metadata": {
        "id": "KhopLN33N_Nw"
      },
      "outputs": [],
      "source": [
        "# Одна эпоха прошла"
      ]
    },
    {
      "cell_type": "code",
      "execution_count": 38,
      "metadata": {
        "colab": {
          "base_uri": "https://localhost:8080/",
          "height": 730
        },
        "id": "SIGFnAeMN_Nz",
        "outputId": "6742c948-383a-4855-fb81-d07bcaa56579"
      },
      "outputs": [
        {
          "output_type": "display_data",
          "data": {
            "text/plain": [
              "<Figure size 1008x864 with 1 Axes>"
            ],
            "image/png": "[encoded data removed]"
          },
          "metadata": {
            "needs_background": "light"
          }
        }
      ],
      "source": [
        "plt.figure(figsize=(14, 12))\n",
        "plt.plot(losses)\n",
        "plt.grid()\n",
        "plt.title('Training process')\n",
        "plt.xlabel('Iterations')\n",
        "plt.ylabel('Loss function');"
      ]
    },
    {
      "cell_type": "markdown",
      "metadata": {
        "id": "8oBFJlYrN_N3"
      },
      "source": [
        "# Теперь мы можем что-то предсказать"
      ]
    },
    {
      "cell_type": "code",
      "execution_count": 39,
      "metadata": {
        "id": "pYQ-5cXnN_N4"
      },
      "outputs": [],
      "source": [
        "for x, y in test_loader:\n",
        "\n",
        "    x = x.view(x.shape[0], -1)\n",
        "    y = y.unsqueeze(1).float()\n",
        "    \n",
        "    # чтобы не ходить по всему тестовому датасету, прекратим ходить после первой итерации\n",
        "    break"
      ]
    },
    {
      "cell_type": "code",
      "execution_count": 40,
      "metadata": {
        "id": "Rb3ImXPNN_N_",
        "outputId": "0e5f4cd3-4924-4016-fcd3-ab60b51759b9",
        "colab": {
          "base_uri": "https://localhost:8080/"
        }
      },
      "outputs": [
        {
          "output_type": "execute_result",
          "data": {
            "text/plain": [
              "torch.Size([128, 784])"
            ]
          },
          "metadata": {},
          "execution_count": 40
        }
      ],
      "source": [
        "x.shape"
      ]
    },
    {
      "cell_type": "code",
      "execution_count": 41,
      "metadata": {
        "id": "5V_GO6_zN_OE",
        "outputId": "e131df8c-c05e-4b59-e587-4ceaa467221a",
        "colab": {
          "base_uri": "https://localhost:8080/"
        }
      },
      "outputs": [
        {
          "output_type": "execute_result",
          "data": {
            "text/plain": [
              "torch.Size([128, 1])"
            ]
          },
          "metadata": {},
          "execution_count": 41
        }
      ],
      "source": [
        "y.shape"
      ]
    },
    {
      "cell_type": "code",
      "execution_count": 42,
      "metadata": {
        "id": "_zHM8GRpN_OG",
        "outputId": "4031a23e-8965-4e57-b8db-9d8856ba144e",
        "colab": {
          "base_uri": "https://localhost:8080/"
        }
      },
      "outputs": [
        {
          "output_type": "execute_result",
          "data": {
            "text/plain": [
              "MLP(\n",
              "  (linear_1): Linear(in_features=784, out_features=256, bias=True)\n",
              "  (non_linear_function): ReLU()\n",
              "  (linear_2): Linear(in_features=256, out_features=1, bias=True)\n",
              "  (sigmoid): Sigmoid()\n",
              ")"
            ]
          },
          "metadata": {},
          "execution_count": 42
        }
      ],
      "source": [
        "# переходим в режим предсказания\n",
        "# \n",
        "# позже в курсе мы разберем зачем конкретно это нужно\n",
        "# \n",
        "# для искушенного нетерпеливого читателя: дропаут больше не дропаутит, батч норм больше не нормирует каждый батч\n",
        "# а использует накопленную статистику при обучении и тд\n",
        "# \n",
        "model.eval()"
      ]
    },
    {
      "cell_type": "code",
      "execution_count": 43,
      "metadata": {
        "id": "CT4N0ZAPN_OI"
      },
      "outputs": [],
      "source": [
        "# этот контект позволяет не сохранять необходимую информацию для рассчета градиентов\n",
        "with torch.no_grad():\n",
        "\n",
        "    pred = model(x)"
      ]
    },
    {
      "cell_type": "code",
      "execution_count": 44,
      "metadata": {
        "id": "R48ZI_iJN_OK",
        "outputId": "212678a5-5235-4e17-fd25-219a0b27de5b",
        "colab": {
          "base_uri": "https://localhost:8080/"
        }
      },
      "outputs": [
        {
          "output_type": "execute_result",
          "data": {
            "text/plain": [
              "torch.Size([128, 1])"
            ]
          },
          "metadata": {},
          "execution_count": 44
        }
      ],
      "source": [
        "pred.shape"
      ]
    },
    {
      "cell_type": "code",
      "execution_count": 45,
      "metadata": {
        "id": "Azbcidg1N_OM"
      },
      "outputs": [],
      "source": [
        "# избавимся от единичной размерности\n",
        "pred = pred.squeeze()\n",
        "y = y.squeeze()"
      ]
    },
    {
      "cell_type": "code",
      "execution_count": 46,
      "metadata": {
        "id": "L7zm8vzBN_OO",
        "outputId": "a3cfbff7-0f3f-4c4f-bb74-ade3aeddc45f",
        "colab": {
          "base_uri": "https://localhost:8080/"
        }
      },
      "outputs": [
        {
          "output_type": "execute_result",
          "data": {
            "text/plain": [
              "torch.Size([128])"
            ]
          },
          "metadata": {},
          "execution_count": 46
        }
      ],
      "source": [
        "pred.shape"
      ]
    },
    {
      "cell_type": "code",
      "execution_count": 47,
      "metadata": {
        "id": "JBARJLDIN_OT"
      },
      "outputs": [],
      "source": [
        "# таким образом из торчовых тензоров мы можем сделать нумпаевские массивы\n",
        "pred = pred.numpy()\n",
        "y = y.numpy()"
      ]
    },
    {
      "cell_type": "code",
      "execution_count": 48,
      "metadata": {
        "id": "8Y4gi0q7N_OZ",
        "outputId": "fcacb72b-fd74-4c60-834b-c1924f36a6f2",
        "colab": {
          "base_uri": "https://localhost:8080/"
        }
      },
      "outputs": [
        {
          "output_type": "execute_result",
          "data": {
            "text/plain": [
              "array([1., 1., 0., 1., 0., 0., 1., 1., 1., 0., 0., 1., 0., 1., 0., 1., 1.,\n",
              "       0., 1., 1., 1., 1., 0., 0., 0., 1., 1., 0., 1., 1., 1., 1., 1., 0.,\n",
              "       1., 0., 1., 0., 1., 0., 0., 0., 0., 0., 1., 1., 1., 0., 0., 1., 1.,\n",
              "       0., 1., 1., 1., 1., 0., 1., 1., 1., 0., 0., 0., 0., 1., 0., 0., 1.,\n",
              "       0., 0., 1., 0., 1., 0., 0., 1., 0., 0., 1., 1., 1., 1., 0., 1., 0.,\n",
              "       0., 0., 0., 0., 0., 1., 1., 0., 1., 0., 0., 0., 1., 0., 1., 0., 0.,\n",
              "       0., 0., 0., 1., 1., 1., 1., 0., 0., 0., 0., 0., 0., 1., 1., 0., 0.,\n",
              "       1., 0., 1., 1., 0., 1., 0., 0., 1.], dtype=float32)"
            ]
          },
          "metadata": {},
          "execution_count": 48
        }
      ],
      "source": [
        "y"
      ]
    },
    {
      "cell_type": "code",
      "execution_count": 49,
      "metadata": {
        "id": "QPlZdMfiN_Og",
        "outputId": "5d3bd0e8-aae7-4994-fa67-8ddf7767afe6",
        "colab": {
          "base_uri": "https://localhost:8080/"
        }
      },
      "outputs": [
        {
          "output_type": "execute_result",
          "data": {
            "text/plain": [
              "numpy.ndarray"
            ]
          },
          "metadata": {},
          "execution_count": 49
        }
      ],
      "source": [
        "type(y)"
      ]
    },
    {
      "cell_type": "code",
      "execution_count": 50,
      "metadata": {
        "id": "Ck7Voa7HN_Ok"
      },
      "outputs": [],
      "source": [
        "# бинаризируем наши предсказания\n",
        "pred[pred > 0.5] = 1\n",
        "pred[pred <= 0.5] = 0"
      ]
    },
    {
      "cell_type": "code",
      "execution_count": 51,
      "metadata": {
        "id": "Ts85uzXFN_Om",
        "outputId": "75656494-9e5c-4b58-bc76-3e860ed7076b",
        "colab": {
          "base_uri": "https://localhost:8080/"
        }
      },
      "outputs": [
        {
          "output_type": "execute_result",
          "data": {
            "text/plain": [
              "0.9609375"
            ]
          },
          "metadata": {},
          "execution_count": 51
        }
      ],
      "source": [
        "# посчитаем метрику на батче\n",
        "accuracy_score(y, pred)"
      ]
    },
    {
      "cell_type": "code",
      "execution_count": 52,
      "metadata": {
        "id": "yoynJ1-2N_Op"
      },
      "outputs": [],
      "source": [
        "# заново определим нашу модель и выучимся несколько эпох\n",
        "# будут уже новые параметры\n",
        "model = MLP(in_features=784, inner_features=256, out_features=1)\n",
        "\n",
        "criterion = torch.nn.BCELoss()\n",
        "# мы позже поговорим про этот оптимизационный алгоритм\n",
        "optimizer = torch.optim.Adam(params=model.parameters())"
      ]
    },
    {
      "cell_type": "markdown",
      "metadata": {
        "id": "hzBgaRe7N_Os"
      },
      "source": [
        "# Типичный цикл обучения с кучей сохранений лоссов"
      ]
    },
    {
      "cell_type": "code",
      "execution_count": 53,
      "metadata": {
        "id": "1zO6ruQbN_Ot",
        "outputId": "447625e3-58e8-4b67-cc12-74f9757c97cd",
        "colab": {
          "base_uri": "https://localhost:8080/"
        }
      },
      "outputs": [
        {
          "output_type": "stream",
          "name": "stderr",
          "text": [
            "Epoch 1: 100%|██████████| 12396/12396 [00:03<00:00, 3817.39it/s, train_loss=0.0659]\n"
          ]
        },
        {
          "output_type": "stream",
          "name": "stdout",
          "text": [
            "Losses: train - 0.066, test = 0.044\n",
            "Test: accuracy - 0.987\n"
          ]
        },
        {
          "output_type": "stream",
          "name": "stderr",
          "text": [
            "Epoch 2: 100%|██████████| 12396/12396 [00:03<00:00, 4101.21it/s, train_loss=0.0281]\n"
          ]
        },
        {
          "output_type": "stream",
          "name": "stdout",
          "text": [
            "Losses: train - 0.028, test = 0.038\n",
            "Test: accuracy - 0.987\n"
          ]
        },
        {
          "output_type": "stream",
          "name": "stderr",
          "text": [
            "Epoch 3: 100%|██████████| 12396/12396 [00:03<00:00, 3224.80it/s, train_loss=0.0179]\n"
          ]
        },
        {
          "output_type": "stream",
          "name": "stdout",
          "text": [
            "Losses: train - 0.016, test = 0.027\n",
            "Test: accuracy - 0.991\n"
          ]
        },
        {
          "output_type": "stream",
          "name": "stderr",
          "text": [
            "Epoch 4: 100%|██████████| 12396/12396 [00:03<00:00, 4037.82it/s, train_loss=0.0111]\n"
          ]
        },
        {
          "output_type": "stream",
          "name": "stdout",
          "text": [
            "Losses: train - 0.011, test = 0.025\n",
            "Test: accuracy - 0.991\n"
          ]
        },
        {
          "output_type": "stream",
          "name": "stderr",
          "text": [
            "Epoch 5: 100%|██████████| 12396/12396 [00:02<00:00, 4167.69it/s, train_loss=0.00688]\n"
          ]
        },
        {
          "output_type": "stream",
          "name": "stdout",
          "text": [
            "Losses: train - 0.007, test = 0.031\n",
            "Test: accuracy - 0.989\n",
            "Early stopping\n"
          ]
        }
      ],
      "source": [
        "epochs = 10\n",
        "losses = []\n",
        "# нужно для early stopping, то есть трекать лучший лосс на валидации\n",
        "best_test_loss = 10.\n",
        "\n",
        "for n_epoch in range(epochs):\n",
        "    \n",
        "    train_losses = []\n",
        "    test_losses = []\n",
        "    test_preds = []\n",
        "    test_targets = []\n",
        "    \n",
        "    progress_bar = tqdm(total=len(train_loader.dataset), desc='Epoch {}'.format(n_epoch + 1))\n",
        "    \n",
        "    for x, y in train_loader:\n",
        "        \n",
        "        x = x.view(x.shape[0], -1)\n",
        "        y = y.unsqueeze(1).float()\n",
        "        \n",
        "        optimizer.zero_grad()\n",
        "        \n",
        "        pred = model(x)\n",
        "        \n",
        "        loss = criterion(pred, y.float())\n",
        "        \n",
        "        loss.backward()\n",
        "        \n",
        "        optimizer.step()\n",
        "        \n",
        "        train_losses.append(loss.item())\n",
        "        losses.append(loss.item())\n",
        "        \n",
        "        progress_bar.set_postfix(train_loss = np.mean(losses[-100:]))\n",
        "\n",
        "        progress_bar.update(x.shape[0])\n",
        "        \n",
        "    progress_bar.close()\n",
        "    \n",
        "    for x, y in test_loader:\n",
        "        \n",
        "        x = x.view(x.shape[0], -1)\n",
        "        y = y.unsqueeze(1).float()\n",
        "\n",
        "        with torch.no_grad():\n",
        "            \n",
        "            pred = model(x)\n",
        "            \n",
        "        test_preds.append(pred.numpy())\n",
        "        test_targets.append(y.numpy())\n",
        "\n",
        "        loss = criterion(pred, y)\n",
        "\n",
        "        test_losses.append(loss.item())\n",
        "        \n",
        "    mean_test_loss = np.mean(test_losses)\n",
        "        \n",
        "    print('Losses: train - {:.3f}, test = {:.3f}'.format(np.mean(train_losses), mean_test_loss))\n",
        "    \n",
        "    test_preds = np.concatenate(test_preds)\n",
        "    test_preds = test_preds.squeeze()\n",
        "    test_targets = np.concatenate(test_targets).squeeze()\n",
        "    \n",
        "    test_preds[test_preds > 0.5] = 1\n",
        "    test_preds[test_preds <= 0.5] = 0\n",
        "    \n",
        "    accurary = accuracy_score(test_targets, test_preds)\n",
        "\n",
        "    print('Test: accuracy - {:.3f}'.format(accurary))\n",
        "        \n",
        "    # как раз early stopping\n",
        "    # то есть: если наша функция потерь на валидационном датасете стала расти, то прекращаем обучение\n",
        "    # рост фунции потерь на валидационном датасете говорит о переобучении\n",
        "    # пожалуй, самый популярный метод валидации для нейронных сетей\n",
        "    if mean_test_loss < best_test_loss:\n",
        "        best_test_loss = mean_test_loss\n",
        "    else:\n",
        "        print('Early stopping')\n",
        "        break    "
      ]
    },
    {
      "cell_type": "code",
      "execution_count": 54,
      "metadata": {
        "id": "U4URcBJPN_Ow",
        "outputId": "131bce4d-2e83-423a-c0b5-b64fda8a0e61",
        "colab": {
          "base_uri": "https://localhost:8080/",
          "height": 730
        }
      },
      "outputs": [
        {
          "output_type": "display_data",
          "data": {
            "text/plain": [
              "<Figure size 1008x864 with 1 Axes>"
            ],
            "image/png": "[encoded data removed]"
          },
          "metadata": {
            "needs_background": "light"
          }
        }
      ],
      "source": [
        "plt.figure(figsize=(14, 12))\n",
        "plt.plot(losses)\n",
        "plt.grid()\n",
        "plt.title('Training process')\n",
        "plt.xlabel('Iterations')\n",
        "plt.ylabel('Loss function');"
      ]
    }
  ],
  "metadata": {
    "accelerator": "GPU",
    "colab": {
      "provenance": [],
      "include_colab_link": true
    },
    "kernelspec": {
      "display_name": "Python 3 (ipykernel)",
      "language": "python",
      "name": "python3"
    },
    "language_info": {
      "codemirror_mode": {
        "name": "ipython",
        "version": 3
      },
      "file_extension": ".py",
      "mimetype": "text/x-python",
      "name": "python",
      "nbconvert_exporter": "python",
      "pygments_lexer": "ipython3",
      "version": "3.9.12"
    }
  },
  "nbformat": 4,
  "nbformat_minor": 0
}